{
  "cells": [
    {
      "cell_type": "markdown",
      "source": [
        "<title>ITI104 Assignment</title>\n",
        "\n",
        "Name: Liew Chooi Chin <br>\n",
        "Student ID: 23A056D"
      ],
      "metadata": {
        "id": "nENixbDEzqCH"
      },
      "id": "nENixbDEzqCH"
    },
    {
      "cell_type": "markdown",
      "id": "f57e2907-702e-4762-acb3-ea295e461f02",
      "metadata": {
        "id": "f57e2907-702e-4762-acb3-ea295e461f02"
      },
      "source": [
        "# Written Question\n",
        "\n",
        "Introduction to ensemble methods in general\n",
        "\n",
        "Details on how Voting and Stacking ensemble methods work\n",
        "\n",
        "Advantages and benefits of Voting vs Stacking methods, and ensemble methods over single classifier/regressor\n",
        "\n",
        "Any other facts and figures about Voting, Stacking or other ensemble methods that you find interesting and worth sharing\n",
        "\n",
        "References\n"
      ]
    },
    {
      "cell_type": "markdown",
      "source": [
        "## Ensemble methods in general\n",
        "\n",
        "Ensemble methods make use of the simple notion that more heads are better than one. When we train using one estimator, the result may not be good enough. But, when we use a few or many individual estimators, together all these estimators will make a powerful estimator. This concept is illustrated below with the all time favourite iris data set and decision trees."
      ],
      "metadata": {
        "id": "YHxxqmW_QadL"
      },
      "id": "YHxxqmW_QadL"
    },
    {
      "cell_type": "code",
      "source": [
        "import numpy as np\n",
        "from sklearn.datasets import load_iris\n",
        "from sklearn.model_selection import cross_val_score\n",
        "from sklearn.metrics import matthews_corrcoef\n",
        "from sklearn.tree import DecisionTreeClassifier\n",
        "from sklearn.ensemble import RandomForestClassifier\n",
        "\n",
        "# Load the iris datasets\n",
        "iris = load_iris()\n",
        "\n",
        "# To set the random state so that we get a consistent\n",
        "# result for every run of the program.\n",
        "RND_NUM = 0\n",
        "\n",
        "# This is a simple demonstration. Thus, the whole\n",
        "# dataset is put into cross_val_score to get the\n",
        "# cross validation score.\n",
        "\n",
        "# Instantiate a DecisionTreeClassifier\n",
        "one_tree = DecisionTreeClassifier(\n",
        "    max_depth=1,\n",
        "    max_features=1,\n",
        "    splitter='best',\n",
        "    random_state=RND_NUM\n",
        ")\n",
        "\n",
        "# Obtain the cross validation score\n",
        "one_tree_score = cross_val_score(\n",
        "    one_tree, iris.data, iris.target,\n",
        "    scoring='matthews_corrcoef', cv=10)\n",
        "one_tree_mean = np.mean(one_tree_score)\n",
        "\n",
        "# Instantiate a random forest\n",
        "forest_50 = RandomForestClassifier(\n",
        "    n_estimators=50,\n",
        "    max_depth=1,\n",
        "    max_features=1,\n",
        "    random_state=RND_NUM\n",
        ")\n",
        "\n",
        "# Get the cross validation score\n",
        "forest_50_score = cross_val_score(\n",
        "    forest_50, iris.data, iris.target,\n",
        "    scoring='matthews_corrcoef', cv=10\n",
        ")\n",
        "forest_50_mean = np.mean(forest_50_score)\n",
        "\n",
        "# Instantiate a random forest\n",
        "forest_100 = RandomForestClassifier(\n",
        "    n_estimators=100,\n",
        "    max_depth=1,\n",
        "    max_features=1,\n",
        "    random_state=RND_NUM\n",
        ")\n",
        "\n",
        "# Get the cross validation score\n",
        "forest_100_score = cross_val_score(\n",
        "    forest_100, iris.data, iris.target,\n",
        "    scoring='matthews_corrcoef', cv=10\n",
        ")\n",
        "forest_100_mean = np.mean(forest_100_score)\n",
        "\n",
        "# Print the score of the one tree classifier\n",
        "# against the random forest\n",
        "print(\"Both decision trees have max_depth=1 and max_features=1.\")\n",
        "print(f\"MCC of one tree is {one_tree_mean}.\")\n",
        "print(f\"MCC of 100 trees of forest is {forest_50_mean}.\")\n",
        "print(f\"MCC of 500 trees of forest is {forest_100_mean}.\")"
      ],
      "metadata": {
        "colab": {
          "base_uri": "https://localhost:8080/"
        },
        "id": "fKik5hvhScHa",
        "outputId": "9c7dfad1-fc54-484e-f27c-0aea3a88bd44"
      },
      "id": "fKik5hvhScHa",
      "execution_count": null,
      "outputs": [
        {
          "output_type": "stream",
          "name": "stdout",
          "text": [
            "Both decision trees have max_depth=1 and max_features=1.\n",
            "MCC of one tree is 0.40671833954496905.\n",
            "MCC of 100 trees of forest is 0.7237401272795637.\n",
            "MCC of 500 trees of forest is 0.8563395440748758.\n"
          ]
        }
      ]
    },
    {
      "cell_type": "markdown",
      "source": [
        "We will show the concept of weak learner combined to become a more powerful estimator through the use a one decision tree and a forest of trees. Here, we set the decision trees to a severe set of hyperparameters: `max_depth=1` and `max_features=1`. `Max_depth` of 1 means that the tree can only split once, and `max_features` is the number of features to consider when looking for the best split. Both trees are set to the same unfavourable conditions.\n",
        "\n",
        "In the one tree model, the MCC score is about 0.4067 while the forest of 50 similar trees give a score of about 0.7237. When we increase the number to 100 trees the MCC improves to 0.8563.\n",
        "\n",
        "With one decision tree, the tree can make many errors and predictions are unsatisfactory. But when we have 100 such weak learners, we make them into a strong coalition that give a much higher MCC score.  \n"
      ],
      "metadata": {
        "id": "ad511280-6d51-4ba1-adc8-580f1cbcd339"
      },
      "id": "ad511280-6d51-4ba1-adc8-580f1cbcd339"
    },
    {
      "cell_type": "markdown",
      "source": [
        "There three main types of ensemble methods:\n",
        "- Bagging (bootstrap aggregating of samples with or without replacement)\n",
        "- Boosting (gradient boosting concept)\n",
        "- Stacking (including stacking and voting)\n",
        "\n",
        "Here, we will focus on ensembles using the stacking and voting methods."
      ],
      "metadata": {
        "id": "Tk3HkGlAbCHY"
      },
      "id": "Tk3HkGlAbCHY"
    },
    {
      "cell_type": "markdown",
      "source": [
        "## Voting methods\n",
        "\n",
        "### Hard voting\n",
        "\n",
        "The concept of voting is simple. We have an aggregate of base models. Each of the models give a prediction. Then the predictions are aggregated. The class that *wins* is the class that has the majority of votes. This method makes use of the actual predictions made by each of the base models. In classification problem, the predicted labels from the base models are counted. The class with the highest *vote count* will be nominated as the most likely class. This is hard voting: one vote, one count.\n",
        "\n",
        "#### Examples of hard voting in action\n",
        "\n",
        "For example we have three classifiers and two classes:\n",
        "\n",
        "|Base models | Classes |\n",
        "|--- | --- |\n",
        "|Model_a | 1 |\n",
        "|Model_b | 0 |\n",
        "|Model_c | 1 |\n",
        "\n",
        "Thus, the count for class 0 is 1, and the count for class 1 is 2. So, the hard voting method will make class 1 the final prediction.\n",
        "\n",
        "#### Odd number of base models\n",
        "\n",
        "It is interesting to note that majority votes is easy to decide when there are odd number of base models. The cut-off votes for majority is `ceiling(number_of_base_models / 2)`. For example, in the example above, we have three base models and cut-off is `ceiling(3/2)=2`.\n",
        "\n",
        "#### Even number of base models\n",
        "\n",
        "So, what happen when we have even number of base models and there are ties in the votes? For example, we have four base models and each class gets two votes.\n",
        "\n",
        "|Base models | Classes |\n",
        "|--- | --- |\n",
        "|Model_a | 1 |\n",
        "|Model_b | 0 |\n",
        "|Model_c | 1 |\n",
        "|Model_d | 0 |\n",
        "\n",
        "According to sklearn \"User Guide\" (1.11. Ensemble methods), the case of a tie is clearly documented[^1]. It says that when a tie occurs during hard voting classification, the labels will go in ascending sort order. In the example above, the ascending sort order of the class labels is [0, 1]. So, the class labels will be awarded to 0 in the final prediction.\n",
        "\n",
        "[^1]: However, this is not documented in the individual `StackingClassifier()` API guide.\n",
        "\n",
        "The hard voting code below illustrate a manual counting of votes and demonstrate that the counting is consistent with the actual working of the 'VotingClassifier' in sklearn.\n",
        "\n",
        "### Soft voting\n",
        "\n",
        "In soft voting, the concept takes into account the voice (value) of each individual base models. Thus, classes with lower number of votes but with high probability will win the race in soft averaging. This is a case where many weak models predict a class with very low probability (thus, high vote count), but there is an odd one out who predict another class with high probability. Then, by using soft voting, this odd one out model will make its voice (probability) heard; whereas in hard voting, this odd one out will lose in the majority vote. This is illustrated in the example below.\n",
        "\n",
        "| Class  | 0 | 1 | 2 | Prediction |\n",
        "| --- | --- | --- | --- | --- |\n",
        "| Model_a | 0.2 | 0.1 | 0.1 | 0 |\n",
        "| Model_b | 0.3 | 0.1 | 0.2 | 0 |\n",
        "| Model_c | 0.2 | 0.1 | 0.1 | 0 |\n",
        "| Model_d | 0.01 | 0.01 | 0.99 | 2 |\n",
        "| Soft voting | 0.1775 | 0.0775 | 0.6475 | 2 (highest) |\n",
        "| Hard voting | - | - | - | 0 (3 out of 4) |\n",
        "\n",
        "By soft average, the highest average of probability belongs to class 2. However, in hard voting, class 0 will have 3 out 4 votes and will win. The advantage of using soft voting is that a class with high prediction probability is likely to win in its prediction.\n",
        "\n",
        "Soft voting makes use of average of prediction probability, thus, the base estimators must implement `predict_proba()` for use with soft voting.\n",
        "\n",
        "Soft voting (averaging method) is suitable for classification as well as for regression problem. In sklearn, the regression voting is called `VotingRegressor'. It averages the predictions from the base models to form the final predictions.\n",
        "\n",
        "The soft voting code below illustrate a manual averaging out prediction probability of each base models using `np.mean()`. Then the manually computed mean is compared to the probability of the `VotingClassifier`. The mean of the two are indeed the same."
      ],
      "metadata": {
        "id": "7xmc1TOPeege"
      },
      "id": "7xmc1TOPeege"
    },
    {
      "cell_type": "markdown",
      "source": [
        "### Illustration of voting classifier using a simple dataset from `make_classification`\n",
        "\n",
        "In this dataset, a small number of points with label [0, 1] are plotted.\n",
        "\n",
        "Three simple base estimators are used to illustrated the methods of hard and soft voting.\n",
        "- Hard voting: The votes are counted manually and then shown to be the same as the prediction from the hard voting classifier.\n",
        "- Soft voting: The prediction probability (`predict_proba()`) of the base estimators are manually computed with `np.mean()`. Then the manually computed average of compared to the probability from soft voting. Then they are shown to be the same with `np.array_equal()`.\n"
      ],
      "metadata": {
        "id": "wft-Cm_R5khB"
      },
      "id": "wft-Cm_R5khB"
    },
    {
      "cell_type": "code",
      "source": [
        "import matplotlib.pyplot as plt\n",
        "import numpy as np\n",
        "from sklearn.datasets import make_classification\n",
        "from sklearn.naive_bayes import GaussianNB\n",
        "from sklearn.neighbors import KNeighborsClassifier\n",
        "from sklearn.ensemble import VotingClassifier\n",
        "from sklearn.model_selection import train_test_split\n",
        "from sklearn.metrics import confusion_matrix\n",
        "\n",
        "RND_NUM = 2\n",
        "\n",
        "# We use the make_classification to generate two classes.\n",
        "# One informative feature, one cluster per class.\n",
        "fig, ax = plt.subplots(nrows=1, ncols=1)\n",
        "X, y = make_classification(\n",
        "    n_samples=50, n_classes=2,\n",
        "    n_features=2, n_redundant=0, n_informative=2,\n",
        "    n_clusters_per_class=1,\n",
        "    flip_y=0.03, class_sep=0.8,\n",
        "    random_state=RND_NUM\n",
        ")\n",
        "plt.scatter(X[:, 0], X[:, 1], marker=\"o\", c=y, s=50, edgecolor=\"k\")\n",
        "ax.set_title(\"Two classes with two features\")\n",
        "\n",
        "# What are the classes we have in y?\n",
        "print(f\"Classes in y and their counts: \\n{np.bincount(y)}\")\n",
        "\n",
        "X_train, X_test, y_train, y_test = train_test_split(\n",
        "    X, y,\n",
        "    train_size=0.6,\n",
        "    random_state=RND_NUM,\n",
        "    shuffle=True\n",
        ")\n",
        "\n",
        "# Use base models with different hyperparameters\n",
        "# The kNN is set to 1 and 10 neighbors. So the outcome can be\n",
        "# quite interesting.\n",
        "nb = GaussianNB()\n",
        "knn_a = KNeighborsClassifier(n_neighbors=1, algorithm='brute')\n",
        "knn_b = KNeighborsClassifier(n_neighbors=10, algorithm='kd_tree')\n",
        "base_models = [('nb', nb), ('knn_a', knn_a), ('knn_b', knn_a)]\n",
        "\n",
        "# Instantiate the hard and soft votinb\n",
        "soft = VotingClassifier(base_models, voting='soft')\n",
        "hard = VotingClassifier(base_models, voting='hard')\n",
        "soft.fit(X_train, y_train)\n",
        "hard.fit(X_train, y_train)\n",
        "\n"
      ],
      "metadata": {
        "colab": {
          "base_uri": "https://localhost:8080/",
          "height": 578
        },
        "id": "c7xJj-Zpg1es",
        "outputId": "1a6a1fa0-8df5-435a-aa61-f2e4ee6532f9"
      },
      "id": "c7xJj-Zpg1es",
      "execution_count": null,
      "outputs": [
        {
          "output_type": "stream",
          "name": "stdout",
          "text": [
            "Classes in y and their counts: \n",
            "[25 25]\n"
          ]
        },
        {
          "output_type": "execute_result",
          "data": {
            "text/plain": [
              "VotingClassifier(estimators=[('nb', GaussianNB()),\n",
              "                             ('knn_a',\n",
              "                              KNeighborsClassifier(algorithm='brute',\n",
              "                                                   n_neighbors=1)),\n",
              "                             ('knn_b',\n",
              "                              KNeighborsClassifier(algorithm='brute',\n",
              "                                                   n_neighbors=1))])"
            ],
            "text/html": [
              "<style>#sk-container-id-4 {color: black;background-color: white;}#sk-container-id-4 pre{padding: 0;}#sk-container-id-4 div.sk-toggleable {background-color: white;}#sk-container-id-4 label.sk-toggleable__label {cursor: pointer;display: block;width: 100%;margin-bottom: 0;padding: 0.3em;box-sizing: border-box;text-align: center;}#sk-container-id-4 label.sk-toggleable__label-arrow:before {content: \"▸\";float: left;margin-right: 0.25em;color: #696969;}#sk-container-id-4 label.sk-toggleable__label-arrow:hover:before {color: black;}#sk-container-id-4 div.sk-estimator:hover label.sk-toggleable__label-arrow:before {color: black;}#sk-container-id-4 div.sk-toggleable__content {max-height: 0;max-width: 0;overflow: hidden;text-align: left;background-color: #f0f8ff;}#sk-container-id-4 div.sk-toggleable__content pre {margin: 0.2em;color: black;border-radius: 0.25em;background-color: #f0f8ff;}#sk-container-id-4 input.sk-toggleable__control:checked~div.sk-toggleable__content {max-height: 200px;max-width: 100%;overflow: auto;}#sk-container-id-4 input.sk-toggleable__control:checked~label.sk-toggleable__label-arrow:before {content: \"▾\";}#sk-container-id-4 div.sk-estimator input.sk-toggleable__control:checked~label.sk-toggleable__label {background-color: #d4ebff;}#sk-container-id-4 div.sk-label input.sk-toggleable__control:checked~label.sk-toggleable__label {background-color: #d4ebff;}#sk-container-id-4 input.sk-hidden--visually {border: 0;clip: rect(1px 1px 1px 1px);clip: rect(1px, 1px, 1px, 1px);height: 1px;margin: -1px;overflow: hidden;padding: 0;position: absolute;width: 1px;}#sk-container-id-4 div.sk-estimator {font-family: monospace;background-color: #f0f8ff;border: 1px dotted black;border-radius: 0.25em;box-sizing: border-box;margin-bottom: 0.5em;}#sk-container-id-4 div.sk-estimator:hover {background-color: #d4ebff;}#sk-container-id-4 div.sk-parallel-item::after {content: \"\";width: 100%;border-bottom: 1px solid gray;flex-grow: 1;}#sk-container-id-4 div.sk-label:hover label.sk-toggleable__label {background-color: #d4ebff;}#sk-container-id-4 div.sk-serial::before {content: \"\";position: absolute;border-left: 1px solid gray;box-sizing: border-box;top: 0;bottom: 0;left: 50%;z-index: 0;}#sk-container-id-4 div.sk-serial {display: flex;flex-direction: column;align-items: center;background-color: white;padding-right: 0.2em;padding-left: 0.2em;position: relative;}#sk-container-id-4 div.sk-item {position: relative;z-index: 1;}#sk-container-id-4 div.sk-parallel {display: flex;align-items: stretch;justify-content: center;background-color: white;position: relative;}#sk-container-id-4 div.sk-item::before, #sk-container-id-4 div.sk-parallel-item::before {content: \"\";position: absolute;border-left: 1px solid gray;box-sizing: border-box;top: 0;bottom: 0;left: 50%;z-index: -1;}#sk-container-id-4 div.sk-parallel-item {display: flex;flex-direction: column;z-index: 1;position: relative;background-color: white;}#sk-container-id-4 div.sk-parallel-item:first-child::after {align-self: flex-end;width: 50%;}#sk-container-id-4 div.sk-parallel-item:last-child::after {align-self: flex-start;width: 50%;}#sk-container-id-4 div.sk-parallel-item:only-child::after {width: 0;}#sk-container-id-4 div.sk-dashed-wrapped {border: 1px dashed gray;margin: 0 0.4em 0.5em 0.4em;box-sizing: border-box;padding-bottom: 0.4em;background-color: white;}#sk-container-id-4 div.sk-label label {font-family: monospace;font-weight: bold;display: inline-block;line-height: 1.2em;}#sk-container-id-4 div.sk-label-container {text-align: center;}#sk-container-id-4 div.sk-container {/* jupyter's `normalize.less` sets `[hidden] { display: none; }` but bootstrap.min.css set `[hidden] { display: none !important; }` so we also need the `!important` here to be able to override the default hidden behavior on the sphinx rendered scikit-learn.org. See: https://github.com/scikit-learn/scikit-learn/issues/21755 */display: inline-block !important;position: relative;}#sk-container-id-4 div.sk-text-repr-fallback {display: none;}</style><div id=\"sk-container-id-4\" class=\"sk-top-container\"><div class=\"sk-text-repr-fallback\"><pre>VotingClassifier(estimators=[(&#x27;nb&#x27;, GaussianNB()),\n",
              "                             (&#x27;knn_a&#x27;,\n",
              "                              KNeighborsClassifier(algorithm=&#x27;brute&#x27;,\n",
              "                                                   n_neighbors=1)),\n",
              "                             (&#x27;knn_b&#x27;,\n",
              "                              KNeighborsClassifier(algorithm=&#x27;brute&#x27;,\n",
              "                                                   n_neighbors=1))])</pre><b>In a Jupyter environment, please rerun this cell to show the HTML representation or trust the notebook. <br />On GitHub, the HTML representation is unable to render, please try loading this page with nbviewer.org.</b></div><div class=\"sk-container\" hidden><div class=\"sk-item sk-dashed-wrapped\"><div class=\"sk-label-container\"><div class=\"sk-label sk-toggleable\"><input class=\"sk-toggleable__control sk-hidden--visually\" id=\"sk-estimator-id-15\" type=\"checkbox\" ><label for=\"sk-estimator-id-15\" class=\"sk-toggleable__label sk-toggleable__label-arrow\">VotingClassifier</label><div class=\"sk-toggleable__content\"><pre>VotingClassifier(estimators=[(&#x27;nb&#x27;, GaussianNB()),\n",
              "                             (&#x27;knn_a&#x27;,\n",
              "                              KNeighborsClassifier(algorithm=&#x27;brute&#x27;,\n",
              "                                                   n_neighbors=1)),\n",
              "                             (&#x27;knn_b&#x27;,\n",
              "                              KNeighborsClassifier(algorithm=&#x27;brute&#x27;,\n",
              "                                                   n_neighbors=1))])</pre></div></div></div><div class=\"sk-parallel\"><div class=\"sk-parallel-item\"><div class=\"sk-item\"><div class=\"sk-label-container\"><div class=\"sk-label sk-toggleable\"><label>nb</label></div></div><div class=\"sk-serial\"><div class=\"sk-item\"><div class=\"sk-estimator sk-toggleable\"><input class=\"sk-toggleable__control sk-hidden--visually\" id=\"sk-estimator-id-16\" type=\"checkbox\" ><label for=\"sk-estimator-id-16\" class=\"sk-toggleable__label sk-toggleable__label-arrow\">GaussianNB</label><div class=\"sk-toggleable__content\"><pre>GaussianNB()</pre></div></div></div></div></div></div><div class=\"sk-parallel-item\"><div class=\"sk-item\"><div class=\"sk-label-container\"><div class=\"sk-label sk-toggleable\"><label>knn_a</label></div></div><div class=\"sk-serial\"><div class=\"sk-item\"><div class=\"sk-estimator sk-toggleable\"><input class=\"sk-toggleable__control sk-hidden--visually\" id=\"sk-estimator-id-17\" type=\"checkbox\" ><label for=\"sk-estimator-id-17\" class=\"sk-toggleable__label sk-toggleable__label-arrow\">KNeighborsClassifier</label><div class=\"sk-toggleable__content\"><pre>KNeighborsClassifier(algorithm=&#x27;brute&#x27;, n_neighbors=1)</pre></div></div></div></div></div></div><div class=\"sk-parallel-item\"><div class=\"sk-item\"><div class=\"sk-label-container\"><div class=\"sk-label sk-toggleable\"><label>knn_b</label></div></div><div class=\"sk-serial\"><div class=\"sk-item\"><div class=\"sk-estimator sk-toggleable\"><input class=\"sk-toggleable__control sk-hidden--visually\" id=\"sk-estimator-id-18\" type=\"checkbox\" ><label for=\"sk-estimator-id-18\" class=\"sk-toggleable__label sk-toggleable__label-arrow\">KNeighborsClassifier</label><div class=\"sk-toggleable__content\"><pre>KNeighborsClassifier(algorithm=&#x27;brute&#x27;, n_neighbors=1)</pre></div></div></div></div></div></div></div></div></div></div>"
            ]
          },
          "metadata": {},
          "execution_count": 38
        },
        {
          "output_type": "display_data",
          "data": {
            "text/plain": [
              "<Figure size 640x480 with 1 Axes>"
            ],
            "image/png": "[encoded data removed]"
          },
          "metadata": {}
        }
      ]
    },
    {
      "cell_type": "markdown",
      "source": [
        "### Hard voting\n",
        "\n",
        "Manual count of votes. The majority class will *win*."
      ],
      "metadata": {
        "id": "O7rp8p8o7UGf"
      },
      "id": "O7rp8p8o7UGf"
    },
    {
      "cell_type": "code",
      "source": [
        "# Get the number of votes in hard voting\n",
        "hard_pred = hard.predict(X_test)\n",
        "cm = confusion_matrix(y_true=y_test, y_pred=hard_pred)\n",
        "print(f\"Confusion matrix of hard voting: \\n{cm}\")\n",
        "\n",
        "# Count the number of classes in each of the predictor.\n",
        "# Get the prediction of the base models in\n",
        "# the hard voting classifier\n",
        "nb_pred = hard.named_estimators_['nb'].predict(X_test)\n",
        "#class_count = np.bincount(nb_pred)\n",
        "#print(f\"NB of the hard voting: {class_count}\")\n",
        "print(f\"NB prediction:  {nb_pred}\")\n",
        "\n",
        "knn_a_pred = hard.named_estimators_['knn_a'].predict(X_test)\n",
        "#class_count = np.bincount(knn_a_pred)\n",
        "#print(f\"KNN of the hard voting: {class_count}\")\n",
        "print(f\"KNN prediction: {knn_a_pred}\")\n",
        "\n",
        "knn_b_pred = hard.named_estimators_['knn_b'].predict(X_test)\n",
        "#class_count = np.bincount(knn_b_pred)\n",
        "#print(f\"KNN of the hard voting: {class_count}\")\n",
        "print(f\"KNN prediction: {knn_b_pred}\")\n",
        "\n",
        "# Manually taking the vote count from the prediction\n",
        "# of the base models.\n",
        "manual_count = []\n",
        "prediction_sum = np.sum((nb_pred, knn_a_pred, knn_b_pred), axis=0)\n",
        "\n",
        "# For odd number of base models:\n",
        "# The majority is ceiling(number_of_base_models/2)\n",
        "# So, in this example majority is ceiling(3/2)=2\n",
        "for i in prediction_sum:\n",
        "    if i >= 2:\n",
        "        manual_count.append(1)\n",
        "    else:\n",
        "        manual_count.append(0)\n",
        "print(f\"Manually counting the prediction vote: \\n{manual_count}\")\n",
        "\n",
        "# Compare the manual counting of vote and the prediction of the\n",
        "# hard voting classifier\n",
        "result = np.array_equal(manual_count, hard_pred)\n",
        "print(\"Result of the manual counting of vote and the prediction \\n\"\n",
        "      f\"of hard voting is the same: {result}\")"
      ],
      "metadata": {
        "colab": {
          "base_uri": "https://localhost:8080/"
        },
        "id": "gf4vzx1sSUAw",
        "outputId": "550aa0d8-bc81-43b7-ae7a-23a84b2e7145"
      },
      "id": "gf4vzx1sSUAw",
      "execution_count": null,
      "outputs": [
        {
          "output_type": "stream",
          "name": "stdout",
          "text": [
            "Confusion matrix of hard voting: \n",
            "[[8 3]\n",
            " [2 7]]\n",
            "NB prediction:  [0 1 1 0 1 0 1 1 1 1 0 0 1 0 1 0 1 0 0 1]\n",
            "KNN prediction: [0 1 1 0 1 0 1 0 1 1 0 0 1 0 1 0 1 0 0 1]\n",
            "KNN prediction: [0 1 1 0 1 0 1 0 1 1 0 0 1 0 1 0 1 0 0 1]\n",
            "Manually counting the prediction vote: \n",
            "[0, 1, 1, 0, 1, 0, 1, 0, 1, 1, 0, 0, 1, 0, 1, 0, 1, 0, 0, 1]\n",
            "Result of the manual counting of vote and the prediction \n",
            "of hard voting is the same: True\n"
          ]
        }
      ]
    },
    {
      "cell_type": "markdown",
      "source": [
        "The above manual counting of votes shows how the hard voting works."
      ],
      "metadata": {
        "id": "y47jQriZ7JZD"
      },
      "id": "y47jQriZ7JZD"
    },
    {
      "cell_type": "markdown",
      "source": [
        "### Soft voting\n",
        "\n",
        "Average of each base models are manually computed. They are the same as the probability of the soft voting predictions."
      ],
      "metadata": {
        "id": "ppBLWRVo7gtB"
      },
      "id": "ppBLWRVo7gtB"
    },
    {
      "cell_type": "code",
      "source": [
        "# Get the number of votes in soft voting,\n",
        "# then use the y_pred as a mask to get the average of\n",
        "# each class\n",
        "y_pred = soft.predict(X_test)\n",
        "cm = confusion_matrix(y_true=y_test, y_pred=y_pred)\n",
        "\n",
        "# Get the predict_proba() of the base models of the\n",
        "# soft voting classifiers\n",
        "nb_proba = soft.named_estimators_['nb'].predict_proba(X_test)\n",
        "knn_a_proba = soft.named_estimators_['knn_a'].predict_proba(X_test)\n",
        "knn_b_proba = soft.named_estimators_['knn_a'].predict_proba(X_test)\n",
        "\n",
        "# Get the average of the predict_proba of the base\n",
        "# estimators\n",
        "base_avg = np.mean((nb_proba, knn_a_proba, knn_b_proba), axis=0)\n",
        "\n",
        "# Compare the manually computed average to the predict_proba()\n",
        "# the soft voting classifier\n",
        "soft_proba = soft.predict_proba(X_test)\n",
        "\n",
        "# Compare if the manually computed average and the predict_proba()\n",
        "result = np.array_equal(base_avg, soft_proba)\n",
        "\n",
        "# Compare which probability is higher, than we will choose the class\n",
        "class_0 = 0\n",
        "class_1 = 0\n",
        "for item in base_avg:\n",
        "    if item[0] > item[1]:\n",
        "        class_0 += 1\n",
        "    else:\n",
        "        class_1 += 1\n",
        "print(\"From the computed average (also the same as predict_proba()) \\n\"\n",
        "      f\"Count of predicted class 0 is: {class_0}\\n\"\n",
        "      f\"Count of predicted class 1 is: {class_1}\")\n",
        "print(\"From the computed average, the number of predicted class 0 and 1 is \\n\"\n",
        "      \"the same as the number of predicted class of the soft voting classifier.\\n\"\n",
        "      f\"This is shown in the predicted total of the confusion matrix: \\n{cm} \\n\"\n",
        "      f\"Predicted [0, 1]: {np.sum(cm, axis=0)} \\n\")"
      ],
      "metadata": {
        "colab": {
          "base_uri": "https://localhost:8080/"
        },
        "id": "YHeAMPH-QLBA",
        "outputId": "4b481a04-803e-4058-82f7-756dcbe4cf88"
      },
      "id": "YHeAMPH-QLBA",
      "execution_count": null,
      "outputs": [
        {
          "output_type": "stream",
          "name": "stdout",
          "text": [
            "From the computed average (also the same as predict_proba()) \n",
            "Count of predicted class 0 is: 10\n",
            "Count of predicted class 1 is: 10\n",
            "From the computed average, the number of predicted class 0 and 1 is \n",
            "the same as the number of predicted class of the soft voting classifier.\n",
            "This is shown in the predicted total of the confusion matrix: \n",
            "[[8 3]\n",
            " [2 7]] \n",
            "Predicted [0, 1]: [10 10] \n",
            "\n"
          ]
        }
      ]
    },
    {
      "cell_type": "markdown",
      "source": [
        "The above manually computed average shows how soft voting works."
      ],
      "metadata": {
        "id": "AFK4Jiy67v4A"
      },
      "id": "AFK4Jiy67v4A"
    },
    {
      "cell_type": "markdown",
      "source": [
        "### Decision boundary of soft and hard voting\n",
        "\n",
        "The decision boundary display of the hard and soft classifiers."
      ],
      "metadata": {
        "id": "sYbS2DMs8zPu"
      },
      "id": "sYbS2DMs8zPu"
    },
    {
      "cell_type": "code",
      "source": [
        "# Decision boundary by hard and soft voting\n",
        "\n",
        "from sklearn.inspection import DecisionBoundaryDisplay\n",
        "fig, ax = plt.subplots(nrows=1, ncols=2, figsize=(10, 4))\n",
        "\n",
        "disp1 = DecisionBoundaryDisplay.from_estimator(\n",
        "    hard, X, ax=ax[0])\n",
        "disp1.ax_.scatter(X[:, 0], X[:, 1], c=y, s=50, edgecolor=\"k\")\n",
        "disp1.ax_.set_title(\"Hard voting\")\n",
        "\n",
        "\n",
        "disp2 = DecisionBoundaryDisplay.from_estimator(\n",
        "    soft, X, ax=ax[1])\n",
        "disp2.ax_.scatter(X[:, 0], X[:, 1], c=y, s=50, edgecolor=\"k\")\n",
        "disp2.ax_.set_title(\"Soft voting\")"
      ],
      "metadata": {
        "colab": {
          "base_uri": "https://localhost:8080/",
          "height": 408
        },
        "id": "fqaNgKqQlAuA",
        "outputId": "2dc91000-cb5c-4389-984a-e26e97225331"
      },
      "id": "fqaNgKqQlAuA",
      "execution_count": null,
      "outputs": [
        {
          "output_type": "execute_result",
          "data": {
            "text/plain": [
              "Text(0.5, 1.0, 'Soft voting')"
            ]
          },
          "metadata": {},
          "execution_count": 41
        },
        {
          "output_type": "display_data",
          "data": {
            "text/plain": [
              "<Figure size 1000x400 with 2 Axes>"
            ],
            "image/png": "[encoded data removed]"
          },
          "metadata": {}
        }
      ]
    },
    {
      "cell_type": "markdown",
      "source": [
        "## Stacking methods\n",
        "\n",
        "The concepts of voting methods are simple enough for us to demonstrate its workings. However, instead of just aggregating the majority counts or average, is there other way of predicting using an army of base models? It turns out that there is.\n",
        "\n",
        "The idea is strikingly obvious. Well, since we are using a few base models to do a few predictions, then why not we also use a model to predict to make predictions from the predictions the base models? This is exactly the idea of stacking methods.\n",
        "\n",
        "In stacking methods, we use a few or many base models. Then, the predictions from the base models will be blended together by a *final estimator*. The final estimator, well as its name suggests, has the final say on the prediction.\n",
        "\n",
        "Stacking methods can be used for classification and regression problems.\n",
        "\n",
        "### How it works\n",
        "\n",
        "According to the documentation in sklearn, the implementation of stacking methods is as followed:\n",
        "- First, the training data is fitted to the base models.\n",
        "- The outputs of the base models are specified by the parameter `stack_method`. The outputs can be any of the `predict_proba()`, `decision_function()` or `predict()`.\n",
        "- Then, the outputs or predictions from each of the base models are organized together to be fed as input to the final estimator.\n",
        "- The final estimator is trained by `cross_val_predict()` internally.\n",
        "\n",
        "### Pros and cons of using stacking classifiers\n",
        "\n",
        "In order to use stacking ensemble method, the base models need to be trained first. Then the predictions of the base models are input to the final estimator. Therefore, it is a computationally expensive operation.\n",
        "\n",
        "As we can see, stacking method is a sequential method. The final estimator can get to work only when it has the outputs from all the base estimators.  Also, the time it takes for the final estimator to get to work is as long as the time it takes for the most time consuming base models to complete.\n",
        "\n",
        "However, there are good points about stacking ensemble methods. The final estimator are trained on the outputs or predictions from the base models. Intuitively, the predictions of the final estimator is only as good as the the best predictions from the base models. However, in practice, this is not the case. The final estimator can often make use of the combined strength of the base models and make a better prediction. Therefore even when the base models are weak in their predictions, the combined predictions fed to the final estimators can be used to make good predictions. So, this come back to the central idea of ensemble learning: many weak learners make a powerful estimator.\n",
        "\n",
        "### Boosting stacking methods\n",
        "\n",
        "With the original flavor of stacking, only the outputs or predictions of the base models is used. Well, in order to have the best predictions, why not let the final estimator also take a peek into the original data? Well, sklearn let us do just that.\n",
        "\n",
        "In stacking methods, there is a parameter call `passthrough`. It is a boolean and default to `False`.\n",
        "- When `False`, we have the original flavor of stacking methods. That is, only the predictions of estimators will be used as training data for final_estimator.\n",
        "- When `True`, the final_estimator is trained on the predictions as well as the original training data."
      ],
      "metadata": {
        "id": "lmO-bWKl9KLz"
      },
      "id": "lmO-bWKl9KLz"
    },
    {
      "cell_type": "markdown",
      "source": [
        "## Stacking regressor in action\n",
        "\n",
        "Let's take a look at a StackingRegressor at work. Here, we use a simple linear regression problem from `make_regression()`.\n",
        "\n",
        "Three base models are used, namely `LinearRegression`, `Ridge` and `Lasso`. Both `Ridge` and `Lasso` are set to a severe condition of `max_iter=3` and `alpha=20`. Thus, they are expected to perform badly in the regression problem. And since `LinearRegression` is not bound by any parameter, it is expected to perform well."
      ],
      "metadata": {
        "id": "8aVtMm8a7kDy"
      },
      "id": "8aVtMm8a7kDy"
    },
    {
      "cell_type": "code",
      "source": [
        "import numpy as np\n",
        "from matplotlib import pyplot as plt\n",
        "\n",
        "from sklearn.metrics import PredictionErrorDisplay\n",
        "from sklearn.datasets import make_regression\n",
        "\n",
        "from sklearn.linear_model import LinearRegression\n",
        "from sklearn.linear_model import Ridge\n",
        "from sklearn.linear_model import Lasso\n",
        "from sklearn.ensemble import StackingRegressor\n",
        "\n",
        "# Set the random state\n",
        "RND_NUM = 10\n",
        "\n",
        "# Make a simple regression line\n",
        "X_train, y_train, coef_train = make_regression(\n",
        "    n_samples=100,\n",
        "    n_features=1,\n",
        "    n_informative=1,\n",
        "    noise=10,\n",
        "    coef=True,\n",
        "    random_state=RND_NUM,\n",
        ")\n",
        "\n",
        "X_test, y_test, coef_test = make_regression(\n",
        "    n_samples=20,\n",
        "    n_features=1,\n",
        "    n_informative=1,\n",
        "    noise=10,\n",
        "    coef=True,\n",
        "    random_state=RND_NUM\n",
        ")\n",
        "\n",
        "print(f\"Coefficients are \\n\"\n",
        "      f\"training {coef_train} \\n\"\n",
        "      f\"test {coef_test}\")\n",
        "\n",
        "# Plot the regression line\n",
        "fig, ax = plt.subplots(nrows=1, ncols=1)\n",
        "ax.scatter(X_train, y_train, color='b', alpha=0.5, label='training')\n",
        "ax.scatter(X_test, y_test, color='g', alpha=0.6, label='test')\n",
        "ax.legend(loc='best')\n",
        "ax.set_title(\"Regression problem\")\n",
        "\n",
        "# Instantiate linear regressors to some\n",
        "# unfavorable conditions.\n",
        "MAX_ITER = 3\n",
        "ALPHA = 20\n",
        "\n",
        "ln = LinearRegression()\n",
        "\n",
        "rid = Ridge(\n",
        "    alpha=ALPHA,\n",
        "    max_iter=MAX_ITER,\n",
        "    random_state=RND_NUM\n",
        ")\n",
        "\n",
        "las = Lasso(\n",
        "    alpha=ALPHA,\n",
        "    max_iter=MAX_ITER,\n",
        "    random_state=RND_NUM\n",
        ")\n",
        "\n",
        "base_models = [\n",
        "    ('ln', ln),\n",
        "    ('ridge', rid),\n",
        "    ('lasso', las)\n",
        "]\n",
        "\n",
        "# default final estimator = RidgeCV\n",
        "# passthrough=False\n",
        "# default cv=5\n",
        "st_reg = StackingRegressor(base_models, passthrough=False)\n",
        "\n",
        "st_reg.fit(X_train, y_train)"
      ],
      "metadata": {
        "colab": {
          "base_uri": "https://localhost:8080/",
          "height": 648
        },
        "id": "ZATQIfDQoq9l",
        "outputId": "704736f2-907e-4711-a946-222cb847ecb3"
      },
      "id": "ZATQIfDQoq9l",
      "execution_count": null,
      "outputs": [
        {
          "output_type": "stream",
          "name": "stdout",
          "text": [
            "Coefficients are \n",
            "training 29.972987242456284 \n",
            "test 44.18331744229961\n"
          ]
        },
        {
          "output_type": "execute_result",
          "data": {
            "text/plain": [
              "StackingRegressor(estimators=[('ln', LinearRegression()),\n",
              "                              ('ridge',\n",
              "                               Ridge(alpha=20, max_iter=3, random_state=10)),\n",
              "                              ('lasso',\n",
              "                               Lasso(alpha=20, max_iter=3, random_state=10))])"
            ],
            "text/html": [
              "<style>#sk-container-id-5 {color: black;background-color: white;}#sk-container-id-5 pre{padding: 0;}#sk-container-id-5 div.sk-toggleable {background-color: white;}#sk-container-id-5 label.sk-toggleable__label {cursor: pointer;display: block;width: 100%;margin-bottom: 0;padding: 0.3em;box-sizing: border-box;text-align: center;}#sk-container-id-5 label.sk-toggleable__label-arrow:before {content: \"▸\";float: left;margin-right: 0.25em;color: #696969;}#sk-container-id-5 label.sk-toggleable__label-arrow:hover:before {color: black;}#sk-container-id-5 div.sk-estimator:hover label.sk-toggleable__label-arrow:before {color: black;}#sk-container-id-5 div.sk-toggleable__content {max-height: 0;max-width: 0;overflow: hidden;text-align: left;background-color: #f0f8ff;}#sk-container-id-5 div.sk-toggleable__content pre {margin: 0.2em;color: black;border-radius: 0.25em;background-color: #f0f8ff;}#sk-container-id-5 input.sk-toggleable__control:checked~div.sk-toggleable__content {max-height: 200px;max-width: 100%;overflow: auto;}#sk-container-id-5 input.sk-toggleable__control:checked~label.sk-toggleable__label-arrow:before {content: \"▾\";}#sk-container-id-5 div.sk-estimator input.sk-toggleable__control:checked~label.sk-toggleable__label {background-color: #d4ebff;}#sk-container-id-5 div.sk-label input.sk-toggleable__control:checked~label.sk-toggleable__label {background-color: #d4ebff;}#sk-container-id-5 input.sk-hidden--visually {border: 0;clip: rect(1px 1px 1px 1px);clip: rect(1px, 1px, 1px, 1px);height: 1px;margin: -1px;overflow: hidden;padding: 0;position: absolute;width: 1px;}#sk-container-id-5 div.sk-estimator {font-family: monospace;background-color: #f0f8ff;border: 1px dotted black;border-radius: 0.25em;box-sizing: border-box;margin-bottom: 0.5em;}#sk-container-id-5 div.sk-estimator:hover {background-color: #d4ebff;}#sk-container-id-5 div.sk-parallel-item::after {content: \"\";width: 100%;border-bottom: 1px solid gray;flex-grow: 1;}#sk-container-id-5 div.sk-label:hover label.sk-toggleable__label {background-color: #d4ebff;}#sk-container-id-5 div.sk-serial::before {content: \"\";position: absolute;border-left: 1px solid gray;box-sizing: border-box;top: 0;bottom: 0;left: 50%;z-index: 0;}#sk-container-id-5 div.sk-serial {display: flex;flex-direction: column;align-items: center;background-color: white;padding-right: 0.2em;padding-left: 0.2em;position: relative;}#sk-container-id-5 div.sk-item {position: relative;z-index: 1;}#sk-container-id-5 div.sk-parallel {display: flex;align-items: stretch;justify-content: center;background-color: white;position: relative;}#sk-container-id-5 div.sk-item::before, #sk-container-id-5 div.sk-parallel-item::before {content: \"\";position: absolute;border-left: 1px solid gray;box-sizing: border-box;top: 0;bottom: 0;left: 50%;z-index: -1;}#sk-container-id-5 div.sk-parallel-item {display: flex;flex-direction: column;z-index: 1;position: relative;background-color: white;}#sk-container-id-5 div.sk-parallel-item:first-child::after {align-self: flex-end;width: 50%;}#sk-container-id-5 div.sk-parallel-item:last-child::after {align-self: flex-start;width: 50%;}#sk-container-id-5 div.sk-parallel-item:only-child::after {width: 0;}#sk-container-id-5 div.sk-dashed-wrapped {border: 1px dashed gray;margin: 0 0.4em 0.5em 0.4em;box-sizing: border-box;padding-bottom: 0.4em;background-color: white;}#sk-container-id-5 div.sk-label label {font-family: monospace;font-weight: bold;display: inline-block;line-height: 1.2em;}#sk-container-id-5 div.sk-label-container {text-align: center;}#sk-container-id-5 div.sk-container {/* jupyter's `normalize.less` sets `[hidden] { display: none; }` but bootstrap.min.css set `[hidden] { display: none !important; }` so we also need the `!important` here to be able to override the default hidden behavior on the sphinx rendered scikit-learn.org. See: https://github.com/scikit-learn/scikit-learn/issues/21755 */display: inline-block !important;position: relative;}#sk-container-id-5 div.sk-text-repr-fallback {display: none;}</style><div id=\"sk-container-id-5\" class=\"sk-top-container\"><div class=\"sk-text-repr-fallback\"><pre>StackingRegressor(estimators=[(&#x27;ln&#x27;, LinearRegression()),\n",
              "                              (&#x27;ridge&#x27;,\n",
              "                               Ridge(alpha=20, max_iter=3, random_state=10)),\n",
              "                              (&#x27;lasso&#x27;,\n",
              "                               Lasso(alpha=20, max_iter=3, random_state=10))])</pre><b>In a Jupyter environment, please rerun this cell to show the HTML representation or trust the notebook. <br />On GitHub, the HTML representation is unable to render, please try loading this page with nbviewer.org.</b></div><div class=\"sk-container\" hidden><div class=\"sk-item sk-dashed-wrapped\"><div class=\"sk-label-container\"><div class=\"sk-label sk-toggleable\"><input class=\"sk-toggleable__control sk-hidden--visually\" id=\"sk-estimator-id-19\" type=\"checkbox\" ><label for=\"sk-estimator-id-19\" class=\"sk-toggleable__label sk-toggleable__label-arrow\">StackingRegressor</label><div class=\"sk-toggleable__content\"><pre>StackingRegressor(estimators=[(&#x27;ln&#x27;, LinearRegression()),\n",
              "                              (&#x27;ridge&#x27;,\n",
              "                               Ridge(alpha=20, max_iter=3, random_state=10)),\n",
              "                              (&#x27;lasso&#x27;,\n",
              "                               Lasso(alpha=20, max_iter=3, random_state=10))])</pre></div></div></div><div class=\"sk-serial\"><div class=\"sk-item\"><div class=\"sk-parallel\"><div class=\"sk-parallel-item\"><div class=\"sk-item\"><div class=\"sk-label-container\"><div class=\"sk-label sk-toggleable\"><label>ln</label></div></div><div class=\"sk-serial\"><div class=\"sk-item\"><div class=\"sk-estimator sk-toggleable\"><input class=\"sk-toggleable__control sk-hidden--visually\" id=\"sk-estimator-id-20\" type=\"checkbox\" ><label for=\"sk-estimator-id-20\" class=\"sk-toggleable__label sk-toggleable__label-arrow\">LinearRegression</label><div class=\"sk-toggleable__content\"><pre>LinearRegression()</pre></div></div></div></div></div></div><div class=\"sk-parallel-item\"><div class=\"sk-item\"><div class=\"sk-label-container\"><div class=\"sk-label sk-toggleable\"><label>ridge</label></div></div><div class=\"sk-serial\"><div class=\"sk-item\"><div class=\"sk-estimator sk-toggleable\"><input class=\"sk-toggleable__control sk-hidden--visually\" id=\"sk-estimator-id-21\" type=\"checkbox\" ><label for=\"sk-estimator-id-21\" class=\"sk-toggleable__label sk-toggleable__label-arrow\">Ridge</label><div class=\"sk-toggleable__content\"><pre>Ridge(alpha=20, max_iter=3, random_state=10)</pre></div></div></div></div></div></div><div class=\"sk-parallel-item\"><div class=\"sk-item\"><div class=\"sk-label-container\"><div class=\"sk-label sk-toggleable\"><label>lasso</label></div></div><div class=\"sk-serial\"><div class=\"sk-item\"><div class=\"sk-estimator sk-toggleable\"><input class=\"sk-toggleable__control sk-hidden--visually\" id=\"sk-estimator-id-22\" type=\"checkbox\" ><label for=\"sk-estimator-id-22\" class=\"sk-toggleable__label sk-toggleable__label-arrow\">Lasso</label><div class=\"sk-toggleable__content\"><pre>Lasso(alpha=20, max_iter=3, random_state=10)</pre></div></div></div></div></div></div></div></div><div class=\"sk-item\"><div class=\"sk-parallel\"><div class=\"sk-parallel-item\"><div class=\"sk-item\"><div class=\"sk-label-container\"><div class=\"sk-label sk-toggleable\"><label>final_estimator</label></div></div><div class=\"sk-serial\"><div class=\"sk-item\"><div class=\"sk-estimator sk-toggleable\"><input class=\"sk-toggleable__control sk-hidden--visually\" id=\"sk-estimator-id-23\" type=\"checkbox\" ><label for=\"sk-estimator-id-23\" class=\"sk-toggleable__label sk-toggleable__label-arrow\">RidgeCV</label><div class=\"sk-toggleable__content\"><pre>RidgeCV()</pre></div></div></div></div></div></div></div></div></div></div></div></div>"
            ]
          },
          "metadata": {},
          "execution_count": 42
        },
        {
          "output_type": "display_data",
          "data": {
            "text/plain": [
              "<Figure size 640x480 with 1 Axes>"
            ],
            "image/png": "[encoded data removed]"
          },
          "metadata": {}
        }
      ]
    },
    {
      "cell_type": "code",
      "source": [
        "# Use the default score of the regressor:\n",
        "# coefficient of determination\n",
        "print(\"Coefficient of determination (r2):\")\n",
        "print(f\"Base LinearRegression {st_reg.named_estimators_['ln'].score(X_test, y_test)}\")\n",
        "print(f\"Base Ridge {st_reg.named_estimators_['ridge'].score(X_test, y_test)}\")\n",
        "print(f\"Base Lasso {st_reg.named_estimators_['lasso'].score(X_test, y_test)}\")\n",
        "print(f\"\\nFinal StackRegressor {st_reg.score(X_test, y_test)}\")\n"
      ],
      "metadata": {
        "colab": {
          "base_uri": "https://localhost:8080/"
        },
        "id": "B1t7XzAi3Bgg",
        "outputId": "ced6bf58-6ab7-47da-81ac-6329bf79a3f1"
      },
      "id": "B1t7XzAi3Bgg",
      "execution_count": null,
      "outputs": [
        {
          "output_type": "stream",
          "name": "stdout",
          "text": [
            "Coefficient of determination (r2):\n",
            "Base LinearRegression 0.8416597104433559\n",
            "Base Ridge 0.7593909672146495\n",
            "Base Lasso 0.3381445207378041\n",
            "\n",
            "Final StackRegressor 0.8851609123916938\n"
          ]
        }
      ]
    },
    {
      "cell_type": "markdown",
      "source": [
        "As we can see from the coefficient of determination (r2), the base models have overall low r2, especially the Lasso base model. However, when the weaker models are combined into the final estimator of a StackRegressor, the r2 score is higher than any of the individual regressor."
      ],
      "metadata": {
        "id": "iId0R68K4qc2"
      },
      "id": "iId0R68K4qc2"
    },
    {
      "cell_type": "code",
      "source": [
        "# Predictions\n",
        "st_reg_pred = st_reg.predict(X_test)\n",
        "ln_pred = st_reg.named_estimators_['ln'].predict(X_test)\n",
        "rid_pred = st_reg.named_estimators_['ridge'].predict(X_test)\n",
        "las_pred = st_reg.named_estimators_['lasso'].predict(X_test)\n",
        "\n",
        "# Display of prediction vs actual errors\n",
        "fig2, ax2 = plt.subplots(nrows=2, ncols=2, figsize=(8, 8))\n",
        "fig2.suptitle(\"Actual vs predictions\")\n",
        "st_reg_disp = PredictionErrorDisplay.from_predictions(\n",
        "    y_true=y_test, y_pred=st_reg_pred,\n",
        "    kind=\"actual_vs_predicted\",\n",
        "    random_state=RND_NUM,\n",
        "    ax=ax2[0, 0])\n",
        "ax2[0, 0].set_title(\"StackingRegressor\")\n",
        "\n",
        "ln_disp = PredictionErrorDisplay.from_predictions(\n",
        "    y_true=y_test, y_pred=ln_pred,\n",
        "    kind=\"actual_vs_predicted\",\n",
        "    random_state=RND_NUM,\n",
        "    ax=ax2[0, 1])\n",
        "ax2[0, 1].set_title(\"LinearRegression\")\n",
        "\n",
        "rid_disp = PredictionErrorDisplay.from_predictions(\n",
        "    y_true=y_test, y_pred=rid_pred,\n",
        "    kind=\"actual_vs_predicted\",\n",
        "    random_state=RND_NUM,\n",
        "    ax=ax2[1, 0])\n",
        "ax2[1, 0].set_title(\"Ridge\")\n",
        "\n",
        "las_disp = PredictionErrorDisplay.from_predictions(\n",
        "    y_true=y_test, y_pred=rid_pred,\n",
        "       kind=\"actual_vs_predicted\",\n",
        "    random_state=RND_NUM,\n",
        "    ax=ax2[1, 1])\n",
        "ax2[1, 1].set_title(\"Lasso\")\n",
        "\n",
        "fig2.subplots_adjust(hspace=0.6, wspace=1)"
      ],
      "metadata": {
        "colab": {
          "base_uri": "https://localhost:8080/",
          "height": 776
        },
        "id": "A5NXR5_FqXD0",
        "outputId": "fa14b111-7bac-46b2-8c5c-94c7676ef097"
      },
      "id": "A5NXR5_FqXD0",
      "execution_count": null,
      "outputs": [
        {
          "output_type": "display_data",
          "data": {
            "text/plain": [
              "<Figure size 800x800 with 4 Axes>"
            ],
            "image/png": "[encoded data removed]"
          },
          "metadata": {}
        }
      ]
    },
    {
      "cell_type": "markdown",
      "source": [
        "For the Ridge and Lasso, the prediction error is high. The predictions deviate more from the actual points. This is partly due to the strigent condition that we set the base models. The `max_iter=3` and `alpha=20` is severe enough to constraint the performance of these two base models.\n",
        "\n",
        "It is interesting to note that the simple LinearRegression has a high prediction power in this straightforward linear regression problem. The StackingRegressor closely follows the LinearRegression.\n",
        "\n",
        "At a closer examination, the StackingRegressor tracks the points more closely than the LinearRegressor.\n",
        "\n",
        "Together with the coefficients of determinants above, we can see that StackingRegressor can make good use of the predictions from the base models to produce a better final predictions."
      ],
      "metadata": {
        "id": "YfQIozeb55io"
      },
      "id": "YfQIozeb55io"
    },
    {
      "cell_type": "markdown",
      "source": [
        "## Interesting facts about stacking and voting ensemble\n",
        "\n",
        "For hard voting, tie in vote counting is often a problem. For sklearn, it resolves a tie by choosing the class labels according to the ascending sort order of the labels. For example, for class 0, 1, 2, 3, when there is a tie for the count of these four classes, class 0 will be chosen as the *winner* because 0 is at the beginning of the sort order. Perhaps this implementation is a little casual. Perhaps, the next criteria to determine a winner can be activated in case of a tie. For future implementation, perhaps hard voting can take into account the average of probability. When there is a tie, hard voting can activate the second layer criteria like average of probability to get the final predictions.\n",
        "\n",
        "In stacking methods, the final estimator can also be made up of a few different estimators. That is, the predictions from each of the base models will be fed to a group of various final estimators. But, how are the predictions from the various final estimators are being processed into one final output? The sklearn API and User Guide do not have clear documentation on this aspect. As a guess, for regression problems, it is likely that an average of the various final outputs is taken as the final-final prediction. And for classificaion problem, it could be hard voting among the various final outputs.\n",
        "\n"
      ],
      "metadata": {
        "id": "hgCF9JuHiRv5"
      },
      "id": "hgCF9JuHiRv5"
    },
    {
      "cell_type": "markdown",
      "source": [
        "## References\n",
        "\n",
        "Hands-on machine learning with Scikit-Learn and TensorFlow concepts, tools, and techniques to build intelligent systems (2nd ed.). O’Reilly Media, Inc.\n",
        "\n",
        "sklearn. (2012). 1.11. Ensemble methods — scikit-learn 0.22.1 documentation. Scikit-Learn.org. https://scikit-learn.org/stable/modules/ensemble.html\n",
        "\n",
        "---"
      ],
      "metadata": {
        "id": "oJu_HCVbxsno"
      },
      "id": "oJu_HCVbxsno"
    },
    {
      "cell_type": "markdown",
      "id": "6bf9936f-1166-49aa-a943-185e58ec99bd",
      "metadata": {
        "id": "6bf9936f-1166-49aa-a943-185e58ec99bd"
      },
      "source": [
        "# Practical Question\n",
        "\n",
        "Select a suitable toy dataset provided by Scikit-Learn.\n",
        "\n",
        "Apply the Voting and Stacking methods.\n",
        "\n",
        "Compare the performance between the Voting and Stacking ensembles, as well as the performance of the ensembles and their respective base estimators.\n",
        "\n",
        "You should use four to five machine learning models that you would have learned in the course,\n",
        "- such as linear regression, logistic regression, K-nearest neighbours, Naïve Bayes, decision trees/random forests and SVM, as **base estimators**,\n",
        "- and logistic regression, linear regression or gradient boosted trees as the **meta learner** (for stacking)."
      ]
    },
    {
      "cell_type": "markdown",
      "source": [
        "# Dataset used\n",
        "\n",
        "The breast cancer dataset is selected for the purpose of this assignment. This is a binary classification of 'malignant' or 'benign' outcomes."
      ],
      "metadata": {
        "id": "vVhshsIEQRrZ"
      },
      "id": "vVhshsIEQRrZ"
    },
    {
      "cell_type": "code",
      "execution_count": null,
      "id": "d84b41a9-5cee-418e-9e5b-101c1d845be3",
      "metadata": {
        "colab": {
          "base_uri": "https://localhost:8080/"
        },
        "id": "d84b41a9-5cee-418e-9e5b-101c1d845be3",
        "outputId": "44175a44-c3e8-4b7a-ebed-c217f7e29ae1"
      },
      "outputs": [
        {
          "output_type": "stream",
          "name": "stdout",
          "text": [
            "Libraries imported.\n"
          ]
        }
      ],
      "source": [
        "# Using iris dataset\n",
        "\n",
        "# Import libraries\n",
        "\n",
        "import numpy as np\n",
        "\n",
        "from sklearn.datasets import load_breast_cancer\n",
        "\n",
        "from sklearn.pipeline import Pipeline\n",
        "\n",
        "print(\"Libraries imported.\")"
      ]
    },
    {
      "cell_type": "markdown",
      "source": [
        "The breast cancer dataset is a classic and very easy binary classification dataset.\n",
        "\n",
        "The following summary is obtained from sklearn docs:\n",
        "\n",
        "|Classes | 2|\n",
        "|---|---|\n",
        "|Samples per class|212(M),357(B) |\n",
        "|Samples total | 569 |\n",
        "|Dimensionality | 30 |\n",
        "|Features | real, positive |"
      ],
      "metadata": {
        "id": "pRwO-ROLBP8_"
      },
      "id": "pRwO-ROLBP8_"
    },
    {
      "cell_type": "code",
      "execution_count": null,
      "id": "95da69d1-acd0-438f-aeff-fdc421651c9c",
      "metadata": {
        "id": "95da69d1-acd0-438f-aeff-fdc421651c9c"
      },
      "outputs": [],
      "source": [
        "# Loading breast cancer dataset\n",
        "\n",
        "bc = load_breast_cancer()"
      ]
    },
    {
      "cell_type": "code",
      "source": [
        "# What are the target names?\n",
        "# What does the data look like?\n",
        "\n",
        "print(f\"Target names: {bc.target_names}\")\n",
        "print(f\"Last five rows of target: {bc.target[-5:]}\")"
      ],
      "metadata": {
        "colab": {
          "base_uri": "https://localhost:8080/"
        },
        "id": "UBpgtts6_BE0",
        "outputId": "dc8cbed6-0bb3-465e-bd9f-a52dc0fc01a9"
      },
      "id": "UBpgtts6_BE0",
      "execution_count": null,
      "outputs": [
        {
          "output_type": "stream",
          "name": "stdout",
          "text": [
            "Target names: ['malignant' 'benign']\n",
            "Last five rows of target: [0 0 0 0 1]\n"
          ]
        }
      ]
    },
    {
      "cell_type": "code",
      "source": [
        "# Shape of the features and target\n",
        "\n",
        "print(f\"Shape of features: {bc.data.shape}\")\n",
        "print(f\"Shape of target: {bc.target.shape}\")"
      ],
      "metadata": {
        "colab": {
          "base_uri": "https://localhost:8080/"
        },
        "id": "HkRq79jk_Nsi",
        "outputId": "effc0552-7fd4-4836-d78a-01974b734efe"
      },
      "id": "HkRq79jk_Nsi",
      "execution_count": null,
      "outputs": [
        {
          "output_type": "stream",
          "name": "stdout",
          "text": [
            "Shape of features: (569, 30)\n",
            "Shape of target: (569,)\n"
          ]
        }
      ]
    },
    {
      "cell_type": "markdown",
      "source": [
        "Setting the random number so that the output will random state will be always the same."
      ],
      "metadata": {
        "id": "Kv200f6UQ49g"
      },
      "id": "Kv200f6UQ49g"
    },
    {
      "cell_type": "code",
      "source": [
        "# Set the random state to 0\n",
        "\n",
        "RND_NUM = 0\n",
        "\n",
        "rng = np.random.RandomState(seed=0)\n"
      ],
      "metadata": {
        "id": "PEldbvoYCRXJ"
      },
      "id": "PEldbvoYCRXJ",
      "execution_count": null,
      "outputs": []
    },
    {
      "cell_type": "markdown",
      "source": [
        "# Choosing base models for ensembles\n",
        "\n",
        "sklearn.linear_model.LinearRegression is taught in class. But it will not be used for the classification because it is a numerical regression algorithm. Hence, it is not suitable to be used for classes (or labels) classification.\n",
        "\n",
        "Classification algorigthms that are suitable are listed as follows:\n",
        "- LogisticRegression\n",
        "- GaussianNB\n",
        "- KNeighborsClassifier\n",
        "- DecisionTreeClassifier\n",
        "- RandomForestClassifier\n",
        "- SVC\n",
        "\n",
        "Ensembles to be used are listed as follows:\n",
        "- StackingClassfier\n",
        "- VotingClassifier\n",
        "\n",
        "Among the base algorithms, all except SVC, implements the `predict_proba()`. So, for soft voting, all base algorithms are included except SVC. This is because soft voting needs predict_proba() to provide probabilities that can be averaged into a result.\n",
        "\n",
        "For hard voting and stacking ensemble, all base algorithms (including SVC) are used."
      ],
      "metadata": {
        "id": "CC0X5lJzOIyC"
      },
      "id": "CC0X5lJzOIyC"
    },
    {
      "cell_type": "code",
      "source": [
        "# Instantiate a base Logistic Regression classifier\n",
        "\n",
        "# Logistic Regression as the base estimator\n",
        "\n",
        "# LogisticRegression(penalty='l2', *, dual=False, tol=0.0001, C=1.0,\n",
        "# fit_intercept=True, intercept_scaling=1, class_weight=None, random_state=None,\n",
        "# solver='lbfgs', max_iter=100, multi_class='auto', verbose=0, warm_start=False,\n",
        "# n_jobs=None, l1_ratio=None)\n",
        "# Implement predict_proba, so it can be used for soft voting.\n",
        "\n",
        "# For small datasets, ‘liblinear’ is a good choice.\n",
        "# multi_class='ovr' for binary classes\n",
        "\n",
        "from sklearn.linear_model import LogisticRegression\n",
        "from sklearn.preprocessing import StandardScaler\n",
        "\n",
        "pipe_log = Pipeline(\n",
        "    [\n",
        "        ('std_scaler', StandardScaler()),\n",
        "        ('log_reg', LogisticRegression(\n",
        "            solver='liblinear',\n",
        "            multi_class='ovr',\n",
        "            random_state=RND_NUM) )\n",
        "    ]\n",
        ")\n"
      ],
      "metadata": {
        "id": "siLM221v8PVw"
      },
      "id": "siLM221v8PVw",
      "execution_count": null,
      "outputs": []
    },
    {
      "cell_type": "code",
      "source": [
        "# Instantiate a Naive Bayes classefier\n",
        "\n",
        "# GaussianNB(*, priors=None, var_smoothing=1e-09)\n",
        "# Implement predict_proba(), can be used for soft voting\n",
        "\n",
        "from sklearn.naive_bayes import GaussianNB\n",
        "\n",
        "pipe_nb = Pipeline(\n",
        "    [\n",
        "        ('std_scaler', StandardScaler()),\n",
        "        ('nb', GaussianNB())\n",
        "    ]\n",
        ")"
      ],
      "metadata": {
        "id": "jO0l6UbbMXMl"
      },
      "id": "jO0l6UbbMXMl",
      "execution_count": null,
      "outputs": []
    },
    {
      "cell_type": "code",
      "source": [
        "# Instantiate a kNN neighbors\n",
        "\n",
        "# KNeighborsClassifier(n_neighbors=5, *, weights='uniform', algorithm='auto',\n",
        "# leaf_size=30, p=2, metric='minkowski', metric_params=None, n_jobs=None)\n",
        "# Implement predict_proba(), can be used for soft voting\n",
        "\n",
        "# kNN calculates distances between neighbors, so it is good to\n",
        "# scale the data.\n",
        "\n",
        "from sklearn.neighbors import KNeighborsClassifier\n",
        "from sklearn.preprocessing import MinMaxScaler\n",
        "\n",
        "pipe_knn = Pipeline(\n",
        "    [   ('min_max', MinMaxScaler()),\n",
        "        ('knn', KNeighborsClassifier())\n",
        "    ]\n",
        ")"
      ],
      "metadata": {
        "id": "3aJWa0JBG3Ah"
      },
      "id": "3aJWa0JBG3Ah",
      "execution_count": null,
      "outputs": []
    },
    {
      "cell_type": "code",
      "source": [
        "# Instantiate a decision tree\n",
        "\n",
        "# DecisionTreeClassifier(*, criterion='gini', splitter='best', max_depth=None,\n",
        "# min_samples_split=2, min_samples_leaf=1, min_weight_fraction_leaf=0.0,\n",
        "# max_features=None, random_state=None, max_leaf_nodes=None,\n",
        "# min_impurity_decrease=0.0, class_weight=None, ccp_alpha=0.0)\n",
        "# Implement predict_proba(), can be used for soft voting\n",
        "\n",
        "# Scaling is not necessary for decision tree\n",
        "\n",
        "from sklearn.tree import DecisionTreeClassifier\n",
        "\n",
        "one_tree = Pipeline(\n",
        "    [\n",
        "        ('one_tree', DecisionTreeClassifier(random_state=RND_NUM))\n",
        "    ]\n",
        ")"
      ],
      "metadata": {
        "id": "PT0RUAUJMTnF"
      },
      "id": "PT0RUAUJMTnF",
      "execution_count": null,
      "outputs": []
    },
    {
      "cell_type": "code",
      "source": [
        "# Instantiate a random forest decision tree classifier\n",
        "\n",
        "# RandomForestClassifier(n_estimators=100, *, criterion='gini', max_depth=None,\n",
        "# min_samples_split=2, min_samples_leaf=1, min_weight_fraction_leaf=0.0,\n",
        "# max_features='sqrt', max_leaf_nodes=None, min_impurity_decrease=0.0,\n",
        "# bootstrap=True, oob_score=False, n_jobs=None, random_state=None, verbose=0,\n",
        "# warm_start=False, class_weight=None, ccp_alpha=0.0, max_samples=None)\n",
        "# Implement predict_proba(), can be used for soft voting\n",
        "\n",
        "from sklearn.ensemble import RandomForestClassifier\n",
        "\n",
        "forest = Pipeline(\n",
        "    [\n",
        "        ('rnd_frt', RandomForestClassifier(random_state=RND_NUM))\n",
        "    ]\n",
        ")"
      ],
      "metadata": {
        "id": "0tAMnv4tPI7r"
      },
      "id": "0tAMnv4tPI7r",
      "execution_count": null,
      "outputs": []
    },
    {
      "cell_type": "code",
      "source": [
        "# Instantiate a svm classifier\n",
        "# SVM is sensitive to outliers, so robust scaling is necessary.\n",
        "\n",
        "# SVC(*, C=1.0, kernel='rbf', degree=3, gamma='scale', coef0=0.0,\n",
        "# shrinking=True, probability=False, tol=0.001, cache_size=200,\n",
        "# class_weight=None, verbose=False, max_iter=-1, decision_function_shape='ovr',\n",
        "# break_ties=False, random_state=None)\n",
        "# No predict_proba(), so only hard voting\n",
        "\n",
        "from sklearn.svm import SVC\n",
        "\n",
        "pipe_svc = Pipeline(\n",
        "    [\n",
        "        ('std_scaler', StandardScaler()),\n",
        "        ('svm_clf', SVC(random_state=RND_NUM))\n",
        "    ]\n",
        ")\n"
      ],
      "metadata": {
        "id": "vWofvcngOqtK"
      },
      "id": "vWofvcngOqtK",
      "execution_count": null,
      "outputs": []
    },
    {
      "cell_type": "code",
      "source": [
        "# Put the base estimators together\n",
        "\n",
        "# Estimator with names to be fed into the stacking\n",
        "# ensemble.\n",
        "# Note that SVC\n",
        "base_all = [\n",
        "    ('log', pipe_log),\n",
        "    ('knn', pipe_knn),\n",
        "    ('nb', pipe_nb),\n",
        "    ('tree', one_tree),\n",
        "    ('forest', forest),\n",
        "    ('svc', pipe_svc)\n",
        "]\n",
        "\n",
        "# These are estimators with the predict_proba\n",
        "# implemented. These are used by voting classifier.\n",
        "base_proba = [\n",
        "    ('log', pipe_log),\n",
        "    ('knn', pipe_knn),\n",
        "    ('nb', pipe_nb),\n",
        "    ('tree', one_tree),\n",
        "    ('forest', forest)\n",
        "]\n",
        "\n",
        "# Confirm the estimators used\n",
        "for item in base_all:\n",
        "    print(f\"{item[0]}, {item[1]}\")\n"
      ],
      "metadata": {
        "colab": {
          "base_uri": "https://localhost:8080/"
        },
        "id": "7tKWbk4riYcf",
        "outputId": "9cebb5f4-5fb7-4c0f-e2a1-2be191bed845"
      },
      "id": "7tKWbk4riYcf",
      "execution_count": null,
      "outputs": [
        {
          "output_type": "stream",
          "name": "stdout",
          "text": [
            "log, Pipeline(steps=[('std_scaler', StandardScaler()),\n",
            "                ('log_reg',\n",
            "                 LogisticRegression(multi_class='ovr', random_state=0,\n",
            "                                    solver='liblinear'))])\n",
            "knn, Pipeline(steps=[('min_max', MinMaxScaler()), ('knn', KNeighborsClassifier())])\n",
            "nb, Pipeline(steps=[('std_scaler', StandardScaler()), ('nb', GaussianNB())])\n",
            "tree, Pipeline(steps=[('one_tree', DecisionTreeClassifier(random_state=0))])\n",
            "forest, Pipeline(steps=[('rnd_frt', RandomForestClassifier(random_state=0))])\n",
            "svc, Pipeline(steps=[('std_scaler', StandardScaler()),\n",
            "                ('svm_clf', SVC(random_state=0))])\n"
          ]
        }
      ]
    },
    {
      "cell_type": "code",
      "source": [
        "# Get estimators only, without the names\n",
        "\n",
        "# Estimators without the names. This is for easy\n",
        "# access to the estimator for fitting and getting\n",
        "# performance metrics.\n",
        "\n",
        "def get_estimator(estimator_list):\n",
        "    estimator = [e[1] for e in estimator_list]\n",
        "    return estimator\n",
        "\n",
        "# Get the name of the estimators only.\n",
        "def get_estimator_name(estimator_list):\n",
        "    name = [e[0] for e in estimator_list]\n",
        "    return name"
      ],
      "metadata": {
        "id": "V8dK0SPy0s3F"
      },
      "id": "V8dK0SPy0s3F",
      "execution_count": null,
      "outputs": []
    },
    {
      "cell_type": "markdown",
      "source": [
        "# Choosing ensemble models"
      ],
      "metadata": {
        "id": "tBhXpOXHLVOf"
      },
      "id": "tBhXpOXHLVOf"
    },
    {
      "cell_type": "code",
      "source": [
        "# Logistic Regression as the final estimator for stacking estimator\n",
        "\n",
        "# LogisticRegression(penalty='l2', *, dual=False, tol=0.0001, C=1.0,\n",
        "# fit_intercept=True, intercept_scaling=1, class_weight=None, random_state=None,\n",
        "# solver='lbfgs', max_iter=100, multi_class='auto', verbose=0, warm_start=False,\n",
        "# n_jobs=None, l1_ratio=None)\n",
        "\n",
        "# For small datasets, ‘liblinear’ is a good choice.\n",
        "# multi_class='ovr' for binary classes\n",
        "\n",
        "final_log_reg = LogisticRegression(\n",
        "    solver='liblinear',\n",
        "    multi_class='ovr',\n",
        "    random_state=RND_NUM\n",
        ")"
      ],
      "metadata": {
        "id": "JYt-fQyJsugd"
      },
      "id": "JYt-fQyJsugd",
      "execution_count": null,
      "outputs": []
    },
    {
      "cell_type": "code",
      "source": [
        "# Stacking classifier\n",
        "\n",
        "# StackingClassifier(estimators, final_estimator=None, *, cv=None,\n",
        "# stack_method='auto', n_jobs=None, passthrough=False, verbose=0)\n",
        "\n",
        "# Default final estimator is LogisticRegression\n",
        "\n",
        "from sklearn.ensemble import StackingClassifier\n",
        "\n",
        "stack_clf = StackingClassifier(\n",
        "    estimators=base_all,\n",
        "    final_estimator=final_log_reg,\n",
        ")\n"
      ],
      "metadata": {
        "id": "jTtWKuexr_jN"
      },
      "id": "jTtWKuexr_jN",
      "execution_count": null,
      "outputs": []
    },
    {
      "cell_type": "code",
      "source": [
        "# VotingClassifier(estimators, *, voting='hard', weights=None, n_jobs=None,\n",
        "# flatten_transform=True, verbose=False)\n",
        "\n",
        "# All the base estimators, except SVC, implement predict_proba.\n",
        "# So we will set the voting classifiers to the base estimators without the SVC.\n",
        "\n",
        "from sklearn.ensemble import VotingClassifier\n",
        "\n",
        "# Voting 'hard' majority votes are taken as the answer.\n",
        "vote_hard = VotingClassifier(\n",
        "    estimators=base_all,\n",
        "    voting='hard'\n",
        ")\n",
        "\n",
        "# Voting 'soft' average of predict_proba of the base estimators\n",
        "# are taken. Then, a classificatin is made.\n",
        "# SVC is excluded because it does not have predict_proba().\n",
        "vote_soft = VotingClassifier(\n",
        "    estimators=base_proba,\n",
        "    voting='soft'\n",
        ")"
      ],
      "metadata": {
        "id": "IYCkgsdRXpXZ"
      },
      "id": "IYCkgsdRXpXZ",
      "execution_count": null,
      "outputs": []
    },
    {
      "cell_type": "code",
      "source": [
        "# Combine the ensembles into a list\n",
        "\n",
        "ensemble_all = [\n",
        "    ('stack_clf', stack_clf),\n",
        "    ('vote_hard', vote_hard),\n",
        "    ('vote_soft', vote_soft)\n",
        "]\n",
        "\n",
        "# Confirm the ensembles used\n",
        "#for item in ensemble_all:\n",
        "#    print(f\"{item[0]}, {item[1]}\")"
      ],
      "metadata": {
        "id": "ZtcX2_4M383t"
      },
      "id": "ZtcX2_4M383t",
      "execution_count": null,
      "outputs": []
    },
    {
      "cell_type": "markdown",
      "source": [
        "# Fitting base models and ensembles"
      ],
      "metadata": {
        "id": "JhX5lmmlLdG4"
      },
      "id": "JhX5lmmlLdG4"
    },
    {
      "cell_type": "markdown",
      "source": [
        "The steps are listed as follows:\n",
        "\n",
        "- `StratifiedKFold` split the data into two sets of training and test data.\n",
        "- The fold will contain approximately the same proportion of labels that are the same as the proportion of labels in the original dataset.\n",
        "- One fold will be used for base estimators, and another fold for ensembles.\n",
        "- For each of the base estimators and ensembles, performance metrics are compared.\n",
        "- The metrics obtained from the training data using `cross_validate()` is used to determine the bias (training error).\n",
        "- The prediction obtained from the test data is used to determine the variance (test error).\n",
        "- Performance metrics used are precision, recall, and Matthew's correlation coefficient.  "
      ],
      "metadata": {
        "id": "Q24fyxIaTLh_"
      },
      "id": "Q24fyxIaTLh_"
    },
    {
      "cell_type": "code",
      "source": [
        "# A general method to fit any model\n",
        "\n",
        "def fit_model(estimator, X_data, y_label):\n",
        "    estimator.fit(X_data, y_label)"
      ],
      "metadata": {
        "id": "conOAprIX2jT"
      },
      "id": "conOAprIX2jT",
      "execution_count": null,
      "outputs": []
    },
    {
      "cell_type": "code",
      "source": [
        "# Split the data into training and test set\n",
        "\n",
        "from sklearn.model_selection import train_test_split\n",
        "\n",
        "# Start the split and training\n",
        "def split_data():\n",
        "\n",
        "    X_train, X_test, y_train, y_test = train_test_split(\n",
        "        bc.data, bc.target,\n",
        "        train_size=0.8,\n",
        "        random_state=RND_NUM,\n",
        "        shuffle=True,\n",
        "        stratify=bc.target\n",
        "    )\n",
        "\n",
        "    # For debug purpose\n",
        "    print(f\"{X_train.shape=}\")\n",
        "    print(f\"{y_train.shape=}\")\n",
        "    print(f\"{X_test.shape=}\")\n",
        "    print(f\"{y_test.shape=}\")\n",
        "\n",
        "    return X_train, X_test, y_train, y_test\n",
        "\n",
        "# call the split_data\n",
        "X_train, X_test, y_train, y_test = split_data()"
      ],
      "metadata": {
        "colab": {
          "base_uri": "https://localhost:8080/"
        },
        "id": "woePfig_vUEC",
        "outputId": "3f230592-92e2-4b30-d759-fa692677ee24"
      },
      "id": "woePfig_vUEC",
      "execution_count": null,
      "outputs": [
        {
          "output_type": "stream",
          "name": "stdout",
          "text": [
            "X_train.shape=(455, 30)\n",
            "y_train.shape=(455,)\n",
            "X_test.shape=(114, 30)\n",
            "y_test.shape=(114,)\n"
          ]
        }
      ]
    },
    {
      "cell_type": "markdown",
      "source": [
        "# Performance metrics with MCC\n",
        "\n",
        "MCC (Matthew's Correlation Coefficient) is used as the basis for evaluation of performances of the models.\n",
        "\n",
        "For training error (bias) `cross_validate` is used with the training set to get scores for each `cv` fold. Here, three fold cv is used. Thus, we will get an array of three values for the MCC scores. Then, three values will be averaged using `np.mean`.\n",
        "\n",
        "After we get the training scores, we get predict scores using the test set. We passed the X_test to `predict()` to get an array of prediction values. Then, with the prediction values, we call `matthew_corrcoef` to get the MCC score for prediction test."
      ],
      "metadata": {
        "id": "pCya69r_LoUL"
      },
      "id": "pCya69r_LoUL"
    },
    {
      "cell_type": "markdown",
      "source": [
        "Fit the model with training set"
      ],
      "metadata": {
        "id": "iWJSFUo2NfBV"
      },
      "id": "iWJSFUo2NfBV"
    },
    {
      "cell_type": "code",
      "source": [
        "# Get the bias (training error) from cross_validate()\n",
        "\n",
        "# for the cv of the cross_validate\n",
        "from sklearn.model_selection import StratifiedKFold\n",
        "from sklearn.model_selection import cross_validate\n",
        "\n",
        "# cross_validate(estimator, X, y=None, *, groups=None, scoring=None, cv=None,\n",
        "# n_jobs=None, verbose=0, fit_params=None, pre_dispatch='2*n_jobs',\n",
        "# return_train_score=False, return_estimator=False, return_indices=False,\n",
        "# error_score=nan)\n",
        "\n",
        "\n",
        "def fit_cross_val(estimator_list, X_train_data, y_train_data):\n",
        "    # Fit and cross validate\n",
        "\n",
        "    # set the scoring metrics to return from the cross_validate\n",
        "    scoring = ['matthews_corrcoef']\n",
        "\n",
        "    # cv for cross_validate\n",
        "    cv_fold = StratifiedKFold(n_splits=3, shuffle=True, random_state=RND_NUM)\n",
        "\n",
        "    # for the score from cross_validate\n",
        "    cv_score = dict()\n",
        "\n",
        "    # Fit the estimator in the list to the train data\n",
        "    for j, item in enumerate(estimator_list):\n",
        "        # Extract the name and the estimator\n",
        "        name = item[0]\n",
        "        e = item[1]\n",
        "        #print(j, name, e) # debug\n",
        "\n",
        "        # Fit the estimator\n",
        "        fit_model(e, X_train_data, y_train_data)\n",
        "\n",
        "        cv_score[name] = cross_validate(\n",
        "            estimator=e,\n",
        "            X=X_train_data,\n",
        "            y=y_train_data,\n",
        "            cv=cv_fold,\n",
        "            scoring=scoring\n",
        "            )\n",
        "\n",
        "    # return the cv_score\n",
        "    return cv_score\n"
      ],
      "metadata": {
        "id": "xhTAVVFXOpa3"
      },
      "id": "xhTAVVFXOpa3",
      "execution_count": null,
      "outputs": []
    },
    {
      "cell_type": "code",
      "source": [
        "# For base and ensemble estimators\n",
        "\n",
        "# Fit models.\n",
        "# Get training error.\n",
        "base_train_array = fit_cross_val(base_all,\n",
        "                                 X_train, y_train)\n",
        "\n",
        "ensemble_train_array = fit_cross_val(ensemble_all,\n",
        "                                     X_train, y_train)\n"
      ],
      "metadata": {
        "id": "MfxxgCpwX0aO"
      },
      "id": "MfxxgCpwX0aO",
      "execution_count": null,
      "outputs": []
    },
    {
      "cell_type": "code",
      "source": [
        "# The score is returned as an array of 3 values\n",
        "# because the cross_validate is set to 3 fold\n",
        "# validations.\n",
        "# We get the mean of the 3 scores\n",
        "\n",
        "base_train_mean = dict()\n",
        "ensemble_train_mean = dict()\n",
        "\n",
        "for k, v in base_train_array.items():\n",
        "    base_train_mean[k] = np.mean(v['test_matthews_corrcoef'])\n",
        "    print(k, v['test_matthews_corrcoef'], base_train_mean[k])\n",
        "\n",
        "for k, v in ensemble_train_array.items():\n",
        "    ensemble_train_mean[k] = np.mean(v['test_matthews_corrcoef'])\n",
        "    print(k, v['test_matthews_corrcoef'], ensemble_train_mean[k])"
      ],
      "metadata": {
        "colab": {
          "base_uri": "https://localhost:8080/"
        },
        "id": "pfLRKZ5dbb_b",
        "outputId": "e4e52ee2-d861-47fb-92f6-3383a3b8eeb5"
      },
      "id": "pfLRKZ5dbb_b",
      "execution_count": null,
      "outputs": [
        {
          "output_type": "stream",
          "name": "stdout",
          "text": [
            "log [0.93016091 0.94459298 0.94323308] 0.9393289893291024\n",
            "knn [0.91737896 0.93094934 0.94323308] 0.9305204600460364\n",
            "nb [0.87495285 0.84795862 0.85808271] 0.8603313901558671\n",
            "tree [0.8877193  0.85904493 0.83346547] 0.860076566159046\n",
            "forest [0.90230474 0.84473679 0.9074094 ] 0.8848169764315222\n",
            "svc [0.97192982 0.94384009 0.98585608] 0.9672086632823694\n",
            "stack_clf [0.9860133  0.91607696 0.97161654] 0.9579022670555047\n",
            "vote_hard [0.94384009 0.92992033 0.94402102] 0.9392604822841263\n",
            "vote_soft [0.92992033 0.90152582 0.90111078] 0.9108523116415012\n"
          ]
        }
      ]
    },
    {
      "cell_type": "markdown",
      "source": [
        "Prediction on test set"
      ],
      "metadata": {
        "id": "36KPw3p7NaqI"
      },
      "id": "36KPw3p7NaqI"
    },
    {
      "cell_type": "code",
      "source": [
        "# Now, call the predict of the estimators\n",
        "# The prediction score is matthews_corrcoef\n",
        "\n",
        "def predict_evaluate(estimator_list, X_test_data, y_test_data):\n",
        "\n",
        "    # score is return as a key of name and value of score\n",
        "    pred_score = dict()\n",
        "\n",
        "    for j, item in enumerate(estimator_list):\n",
        "        # Extract the name and the estimator\n",
        "        name = item[0]\n",
        "        e = item[1]\n",
        "        #print(j, name, e)\n",
        "\n",
        "        # Predict using the X_test\n",
        "        y_pred = e.predict(X_test_data)\n",
        "\n",
        "        # Get the score by comparing y_test and y_pred\n",
        "        pred_score[name] = matthews_corrcoef(y_true=y_test_data,\n",
        "                                    y_pred=y_pred)\n",
        "\n",
        "    return pred_score"
      ],
      "metadata": {
        "id": "lzMo6aogVi7Y"
      },
      "id": "lzMo6aogVi7Y",
      "execution_count": null,
      "outputs": []
    },
    {
      "cell_type": "code",
      "source": [
        "# For base and ensemble estimators\n",
        "# Get prediction data using the test folds\n",
        "# that were obtained earlier.\n",
        "# Evaluation metrics\n",
        "\n",
        "# Both of the test data have not been seen by\n",
        "# the estimators.\n",
        "\n",
        "base_test_score = predict_evaluate(base_all,\n",
        "                                   X_test, y_test)\n",
        "\n",
        "ensemble_test_score = predict_evaluate(ensemble_all,\n",
        "                                       X_test, y_test)"
      ],
      "metadata": {
        "id": "_LfRX6mmSCS1"
      },
      "id": "_LfRX6mmSCS1",
      "execution_count": null,
      "outputs": []
    },
    {
      "cell_type": "code",
      "source": [
        "# Check the size of the test data\n",
        "print(X_test.shape)\n",
        "print(y_test.shape)"
      ],
      "metadata": {
        "colab": {
          "base_uri": "https://localhost:8080/"
        },
        "id": "-JGOsatHthpG",
        "outputId": "82ac525f-2d3a-4cc0-b0f8-f4655da36c3f"
      },
      "id": "-JGOsatHthpG",
      "execution_count": null,
      "outputs": [
        {
          "output_type": "stream",
          "name": "stdout",
          "text": [
            "(114, 30)\n",
            "(114,)\n"
          ]
        }
      ]
    },
    {
      "cell_type": "code",
      "source": [
        "# Check the test score for base and ensemble\n",
        "\n",
        "for k, v in base_test_score.items():\n",
        "    print(k, v)\n",
        "\n",
        "for k, v in ensemble_test_score.items():\n",
        "    print(k, v)"
      ],
      "metadata": {
        "colab": {
          "base_uri": "https://localhost:8080/"
        },
        "id": "NZGpAqO4bRyD",
        "outputId": "65f99709-304a-461d-a13f-ee6a2084a34c"
      },
      "id": "NZGpAqO4bRyD",
      "execution_count": null,
      "outputs": [
        {
          "output_type": "stream",
          "name": "stdout",
          "text": [
            "log 0.962621902223779\n",
            "knn 0.9058238738943076\n",
            "nb 0.796936951050134\n",
            "tree 0.8713438408287706\n",
            "forest 0.8886350389948482\n",
            "svc 0.9246031746031746\n",
            "stack_clf 0.9433397594898876\n",
            "vote_hard 0.8886350389948482\n",
            "vote_soft 0.8869047619047619\n"
          ]
        }
      ]
    },
    {
      "cell_type": "markdown",
      "source": [
        "# Discussion of performance"
      ],
      "metadata": {
        "id": "f-9eddaJN5fN"
      },
      "id": "f-9eddaJN5fN"
    },
    {
      "cell_type": "code",
      "source": [
        "# To get the matthews correlation coefficient into\n",
        "# a list. Then, the list will be used to plot a bar\n",
        "# chart. From the bar chart, we can compare the training\n",
        "# and test error of the base and ensembles.\n",
        "\n",
        "base_train_list = []\n",
        "ensemble_train_list = []\n",
        "\n",
        "base_test_list = []\n",
        "ensemble_test_list = []\n",
        "\n",
        "\n",
        "# Get the base estimators training and test score\n",
        "for name in get_estimator_name(base_all):\n",
        "    # Get the train score (from cross_validate)\n",
        "    base_train_list.append(base_train_mean[name])\n",
        "\n",
        "    # Get the test score\n",
        "    base_test_list.append(base_test_score[name])\n",
        "\n",
        "# Get the ensemble estimators training and test score\n",
        "for name in get_estimator_name(ensemble_all):\n",
        "    # Get the training score (from cross_validate)\n",
        "    ensemble_train_list.append(ensemble_train_mean[name])\n",
        "\n",
        "    # Get the test score\n",
        "    ensemble_test_list.append(ensemble_test_score[name])"
      ],
      "metadata": {
        "id": "GGnfs2WG9BdA"
      },
      "id": "GGnfs2WG9BdA",
      "execution_count": null,
      "outputs": []
    },
    {
      "cell_type": "code",
      "source": [
        "# Plot bar chart to show the various scores of\n",
        "# each of the estimators.\n",
        "# It is clearer to see the scores individually.\n",
        "\n",
        "import matplotlib.pyplot as plt\n",
        "\n",
        "def plot_score_chart(score_name, score_list, label_name):\n",
        "    fig, ax = plt.subplots(figsize=(10, 4))\n",
        "    bar_container = ax.bar(label_name, score_list);\n",
        "    ax.set_title(score_name);\n",
        "    ax.bar_label(bar_container, fmt='{:,.4f}');"
      ],
      "metadata": {
        "id": "WKI0fHFv9JQ9"
      },
      "id": "WKI0fHFv9JQ9",
      "execution_count": null,
      "outputs": []
    },
    {
      "cell_type": "markdown",
      "source": [
        "## Base models against Ensembles"
      ],
      "metadata": {
        "id": "Skoi8nAUOYJr"
      },
      "id": "Skoi8nAUOYJr"
    },
    {
      "cell_type": "code",
      "source": [
        "# Chart the bar of each of the score for easy visualization.\n",
        "\n",
        "# Compare the base estimators training errors and\n",
        "# the ensemble test erros.\n",
        "\n",
        "plot_score_chart(score_name='Matthews corr coef for base estimators '\n",
        "                '(training) and ensembles (test)',\n",
        "                 score_list=(base_train_list+ensemble_test_list),\n",
        "                 label_name=get_estimator_name(base_all+ensemble_all))"
      ],
      "metadata": {
        "colab": {
          "base_uri": "https://localhost:8080/",
          "height": 391
        },
        "id": "kylJ4bW_FgrW",
        "outputId": "16e3d4b2-1dd9-4bbc-cd0b-364c1ecefca0"
      },
      "id": "kylJ4bW_FgrW",
      "execution_count": null,
      "outputs": [
        {
          "output_type": "display_data",
          "data": {
            "text/plain": [
              "<Figure size 1000x400 with 1 Axes>"
            ],
            "image/png": "[encoded data removed]"
          },
          "metadata": {}
        }
      ]
    },
    {
      "cell_type": "markdown",
      "source": [
        "Conclusion:\n",
        "\n",
        "In this evaluation, MCC is used. According to scikit-learn API `sklearn.metrics.matthews_corrcoef`, MCC is in essence a correlation coefficient value between -1 and +1.\n",
        "- A coefficient of +1 represents a perfect prediction,\n",
        "- 0 an average random prediction and\n",
        "- -1 an inverse prediction.\n",
        "\n",
        "In the bar chart above, except for SVC, the training error is shown by the overall lower MCC scores from the base estimators (log, knn, nb, tree and forest). The ensembles (stack_clf, vote_hard and vote_soft) have higher MCC score than the base estimators.\n",
        "\n",
        "This is one of the advantage of using ensembles of estimators. Individual base estimators are weak learners, but when they are ensembled into proper algorithms, each of them contribute to a higher prediction scores.\n",
        "\n"
      ],
      "metadata": {
        "id": "kgSehZtRmn5Z"
      },
      "id": "kgSehZtRmn5Z"
    },
    {
      "cell_type": "markdown",
      "source": [
        "## Stacking against hard voting classifiers"
      ],
      "metadata": {
        "id": "TEiiNs_UOe9E"
      },
      "id": "TEiiNs_UOe9E"
    },
    {
      "cell_type": "code",
      "source": [
        "# The training and prediction score of stacking and\n",
        "# hard voting.\n",
        "\n",
        "score_name = 'Training and prediction score of stacking \\n'\\\n",
        "             'and hard voting'\n",
        "label_name = [\n",
        "    'stack train', 'stack test',\n",
        "    'hard train', 'hard test'\n",
        "]\n",
        "\n",
        "score_list = [\n",
        "    ensemble_train_mean['stack_clf'],\n",
        "    ensemble_test_score['stack_clf'],\n",
        "    ensemble_train_mean['vote_hard'],\n",
        "    ensemble_test_score['vote_hard'],\n",
        "\n",
        "]\n",
        "plot_score_chart(score_name=score_name,\n",
        "                 score_list=score_list,\n",
        "                 label_name=label_name)\n"
      ],
      "metadata": {
        "colab": {
          "base_uri": "https://localhost:8080/",
          "height": 411
        },
        "id": "nQXEDttp2g0S",
        "outputId": "79e7973f-c94d-462d-b6b2-3457e7c59f82"
      },
      "id": "nQXEDttp2g0S",
      "execution_count": null,
      "outputs": [
        {
          "output_type": "display_data",
          "data": {
            "text/plain": [
              "<Figure size 1000x400 with 1 Axes>"
            ],
            "image/png": "[encoded data removed]"
          },
          "metadata": {}
        }
      ]
    },
    {
      "cell_type": "markdown",
      "source": [
        "Stacking classifier performs better than the hard voting classifiers. In the bar chart below, we can see the training error (bias) and prediction error (variance) of these two classifiers.\n",
        "\n",
        "Comparing the training error (bias) and prediction error (variance):\n",
        "- The stacking is only slightly lower in MCC score for the prediction test, that is bias and variance are about the same.\n",
        "- The hard voting test drops quite a lot for prediction test, that is bias is higher than variance."
      ],
      "metadata": {
        "id": "vhRtXck_1mmb"
      },
      "id": "vhRtXck_1mmb"
    },
    {
      "cell_type": "markdown",
      "source": [
        "## Hard against soft voting classifier"
      ],
      "metadata": {
        "id": "-QIj4GRXO6-k"
      },
      "id": "-QIj4GRXO6-k"
    },
    {
      "cell_type": "code",
      "source": [
        "# The training and prediction score of hard and\n",
        "# soft voting.\n",
        "\n",
        "score_name = 'Training and prediction score of \\n'\\\n",
        "             'hard and soft voting'\n",
        "label_name = [\n",
        "    'hard train', 'hard test',\n",
        "    'soft train', 'soft test'\n",
        "]\n",
        "\n",
        "score_list = [\n",
        "    ensemble_train_mean['vote_hard'],\n",
        "    ensemble_test_score['vote_hard'],\n",
        "    ensemble_train_mean['vote_soft'],\n",
        "    ensemble_test_score['vote_soft'],\n",
        "\n",
        "]\n",
        "plot_score_chart(score_name=score_name,\n",
        "                 score_list=score_list,\n",
        "                 label_name=label_name)\n"
      ],
      "metadata": {
        "colab": {
          "base_uri": "https://localhost:8080/",
          "height": 411
        },
        "id": "8Va-W8gi5Dv4",
        "outputId": "d044493e-cdb4-40c8-a33b-2def269ead63"
      },
      "id": "8Va-W8gi5Dv4",
      "execution_count": null,
      "outputs": [
        {
          "output_type": "display_data",
          "data": {
            "text/plain": [
              "<Figure size 1000x400 with 1 Axes>"
            ],
            "image/png": "[encoded data removed]"
          },
          "metadata": {}
        }
      ]
    },
    {
      "cell_type": "markdown",
      "source": [
        "Now, we compare hard voting and soft voting. These two classifiers differ only in the use of SVM. Soft voting needs to use estimators that implement `predict_proba()`. However, SVM does not implement `predict_proba()`. So, soft voting cannot use SVM.\n",
        "\n",
        "We compare the training and prediction error of these two classifiers.\n",
        "- Hard voting has higher training error (bias) compared to soft voting.\n",
        "- Therefore, the difference in training error (bias) and prediction error (variance) is larger in hard voting.\n",
        "- The difference in bias and variance for soft voting is smaller.\n"
      ],
      "metadata": {
        "id": "fHMa6eAw4mEr"
      },
      "id": "fHMa6eAw4mEr"
    },
    {
      "cell_type": "markdown",
      "source": [
        "## SVM training against prediction\n",
        "\n",
        "Hard voting uses SVM. Therefore, the training error (bias) of hard voting is influenced by SVM. We can see from the chart below that SVM has good training score (low bias) but and poor prediction score (high variance).\n",
        "\n",
        "This high bias effect of the SVM influences the hard voting classifier, causing the hard voting classifier to have lower training error (low bias) and higher prediction error (high variance)."
      ],
      "metadata": {
        "id": "6chYjn9e6ZLP"
      },
      "id": "6chYjn9e6ZLP"
    },
    {
      "cell_type": "code",
      "source": [
        "# The training score and prediction test score\n",
        "# of SVC.\n",
        "\n",
        "plot_score_chart(score_name='SVC training and prediction test score in MCC',\n",
        "                 score_list=[base_train_mean['svc'], base_test_score['svc']],\n",
        "                 label_name=['training', 'test'])\n"
      ],
      "metadata": {
        "colab": {
          "base_uri": "https://localhost:8080/",
          "height": 391
        },
        "id": "Hho5892ZyhiV",
        "outputId": "25eea039-260b-4690-c59a-dcc9ddcac86f"
      },
      "id": "Hho5892ZyhiV",
      "execution_count": null,
      "outputs": [
        {
          "output_type": "display_data",
          "data": {
            "text/plain": [
              "<Figure size 1000x400 with 1 Axes>"
            ],
            "image/png": "[encoded data removed]"
          },
          "metadata": {}
        }
      ]
    }
  ],
  "metadata": {
    "kernelspec": {
      "display_name": "Python 3 (ipykernel)",
      "language": "python",
      "name": "python3"
    },
    "language_info": {
      "codemirror_mode": {
        "name": "ipython",
        "version": 3
      },
      "file_extension": ".py",
      "mimetype": "text/x-python",
      "name": "python",
      "nbconvert_exporter": "python",
      "pygments_lexer": "ipython3",
      "version": "3.10.12"
    },
    "colab": {
      "provenance": [],
      "toc_visible": true
    }
  },
  "nbformat": 4,
  "nbformat_minor": 5
}